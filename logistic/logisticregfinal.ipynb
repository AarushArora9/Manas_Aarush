{
 "cells": [
  {
   "cell_type": "code",
   "execution_count": 1,
   "metadata": {},
   "outputs": [],
   "source": [
    "import pandas as pd\n",
    "import numpy as np\n",
    "import matplotlib.pyplot as plt\n",
    "plt.interactive(True)"
   ]
  },
  {
   "cell_type": "markdown",
   "metadata": {},
   "source": [
    "load dataset"
   ]
  },
  {
   "cell_type": "code",
   "execution_count": 3,
   "metadata": {},
   "outputs": [],
   "source": [
    "df = pd.read_csv('C:/Users/aarus/Downloads/Gotem Pumpkins.csv')\n",
    "df['Area'] = pd.to_numeric(df['Area'], errors='coerce').astype(float)\n",
    "df['Convex_Area'] = pd.to_numeric(df['Area'], errors='coerce').astype(float)\n",
    "class_categories = df['Class'].astype('category')\n",
    "df['Class_Code'] = class_categories.cat.codes\n",
    "df['Class'] = class_categories.cat.categories[class_categories.cat.codes].values\n",
    "feature_columns = ['Area', 'Perimeter', 'Major_Axis_Length', 'Minor_Axis_Length', 'Convex_Area', 'Equiv_Diameter', 'Eccentricity', 'Solidity', 'Extent', 'Roundness', 'Aspect_Ration', 'Compactness']\n",
    "target_column = 'Class_Code'"
   ]
  },
  {
   "cell_type": "markdown",
   "metadata": {},
   "source": [
    "sigmoid function "
   ]
  },
  {
   "cell_type": "code",
   "execution_count": 4,
   "metadata": {},
   "outputs": [],
   "source": [
    "def sigmoid(z):\n",
    "    return 1 / (1 + np.exp(-z))"
   ]
  },
  {
   "cell_type": "markdown",
   "metadata": {},
   "source": [
    "training function with stochastic gradient descent with L2 regularisation"
   ]
  },
  {
   "cell_type": "code",
   "execution_count": 5,
   "metadata": {},
   "outputs": [],
   "source": [
    "def train(X_train, y_train, n, steps, lambda_reg=0.1):\n",
    "    feature_count = X_train.shape[1]\n",
    "    weights = np.zeros(feature_count)\n",
    "    m = len(X_train)    \n",
    "    for step in range(steps):\n",
    "        for i in range(m):\n",
    "            x = X_train.iloc[i].to_numpy()\n",
    "            y = y_train.iloc[i]\n",
    "            z = np.dot(weights, x)\n",
    "            p = sigmoid(z)\n",
    "            gradient = x*(y - p)\n",
    "            gradient += lambda_reg*weights  #L2 regularisation\n",
    "            weights += n*gradient\n",
    "    return weights"
   ]
  },
  {
   "cell_type": "markdown",
   "metadata": {},
   "source": [
    "prediction function"
   ]
  },
  {
   "cell_type": "code",
   "execution_count": 6,
   "metadata": {},
   "outputs": [],
   "source": [
    "def predict(x, weights):\n",
    "    z = np.dot(weights, x)\n",
    "    p = sigmoid(z)\n",
    "    return 1 if p > 0.5 else 0"
   ]
  },
  {
   "cell_type": "markdown",
   "metadata": {},
   "source": [
    "test function"
   ]
  },
  {
   "cell_type": "code",
   "execution_count": 7,
   "metadata": {},
   "outputs": [],
   "source": [
    "def test(X_test, y_test, weights):\n",
    "    correct = 0\n",
    "    for i in range(len(y_test)):\n",
    "        x = X_test.iloc[i].to_numpy()\n",
    "        actual = y_test.iloc[i]\n",
    "        prediction = predict(x, weights)\n",
    "        if prediction == actual:\n",
    "            correct += 1\n",
    "    return correct / len(y_test)"
   ]
  },
  {
   "cell_type": "markdown",
   "metadata": {},
   "source": [
    "spliting of data and standardisation"
   ]
  },
  {
   "cell_type": "code",
   "execution_count": 8,
   "metadata": {},
   "outputs": [],
   "source": [
    "X = df[feature_columns]\n",
    "y = df[target_column]\n",
    "\n",
    "def standardize(X):\n",
    "    mean = X.mean(axis=0)\n",
    "    std = X.std(axis=0)\n",
    "    return (X - mean) / std\n",
    "\n",
    "X_scaled = standardize(X)"
   ]
  },
  {
   "cell_type": "markdown",
   "metadata": {},
   "source": [
    "model training"
   ]
  },
  {
   "cell_type": "code",
   "execution_count": 9,
   "metadata": {},
   "outputs": [
    {
     "name": "stderr",
     "output_type": "stream",
     "text": [
      "C:\\Users\\aarus\\AppData\\Local\\Temp\\ipykernel_16024\\3196251242.py:2: RuntimeWarning: overflow encountered in exp\n",
      "  return 1 / (1 + np.exp(-z))\n"
     ]
    }
   ],
   "source": [
    "rate = 0.0001  #Learning rate\n",
    "epoch = 500  #Numberof epochs\n",
    "lambda_reg = 0.1  #Regularisation strength\n",
    "w = train(X_scaled, y, rate, epoch, lambda_reg)"
   ]
  },
  {
   "cell_type": "markdown",
   "metadata": {},
   "source": [
    "testing accuracy"
   ]
  },
  {
   "cell_type": "code",
   "execution_count": 10,
   "metadata": {},
   "outputs": [
    {
     "name": "stdout",
     "output_type": "stream",
     "text": [
      "Final accuracy: 0.871\n",
      "[  271.94214593   591.08856503  2452.21904473 -3240.965429\n",
      "   271.94214593  -376.12148534  3696.45542079  4188.19082069\n",
      "   871.18720645 -2613.72560239  4407.10868412 -4338.35356833]\n"
     ]
    },
    {
     "name": "stderr",
     "output_type": "stream",
     "text": [
      "C:\\Users\\aarus\\AppData\\Local\\Temp\\ipykernel_16024\\3196251242.py:2: RuntimeWarning: overflow encountered in exp\n",
      "  return 1 / (1 + np.exp(-z))\n"
     ]
    }
   ],
   "source": [
    "accuracy = test(X_scaled, y, w)\n",
    "print(\"Final accuracy:\", accuracy)\n",
    "print(w)"
   ]
  },
  {
   "cell_type": "markdown",
   "metadata": {},
   "source": [
    "calculating confusion matrix"
   ]
  },
  {
   "cell_type": "code",
   "execution_count": 12,
   "metadata": {},
   "outputs": [],
   "source": [
    "def compute_confusion_matrix(y_true, y_pred):\n",
    "    \"\"\" Compute confusion matrix \"\"\"\n",
    "    tp = fp = tn = fn = 0\n",
    "    for actual, predicted in zip(y_true, y_pred):\n",
    "        if actual == 1 and predicted == 1:\n",
    "            tp += 1\n",
    "        elif actual == 0 and predicted == 1:\n",
    "            fp += 1\n",
    "        elif actual == 0 and predicted == 0:\n",
    "            tn += 1\n",
    "        elif actual == 1 and predicted == 0:\n",
    "            fn += 1\n",
    "    return tp, fp, tn, fn"
   ]
  },
  {
   "cell_type": "markdown",
   "metadata": {},
   "source": [
    "plotting confusion matrix"
   ]
  },
  {
   "cell_type": "code",
   "execution_count": 13,
   "metadata": {},
   "outputs": [],
   "source": [
    "def plot_confusion_matrix(tp, fp, tn, fn):\n",
    "    \"\"\" Plot confusion matrix \"\"\"\n",
    "    cm = np.array([[tp, fp],\n",
    "                   [fn, tn]])\n",
    "    plt.figure()\n",
    "    plt.imshow(cm, interpolation='nearest', cmap=plt.cm.Blues)\n",
    "    plt.title('Confusion Matrix')\n",
    "    plt.colorbar()\n",
    "    tick_marks = np.arange(2)\n",
    "    plt.xticks(tick_marks, tick_marks)\n",
    "    plt.yticks(tick_marks, tick_marks)\n",
    "\n",
    "    thresh = cm.max() / 2\n",
    "    for i in range(2):\n",
    "        for j in range(2):\n",
    "            plt.text(j, i, cm[i, j], horizontalalignment=\"center\",\n",
    "                     color=\"white\" if cm[i, j] > thresh else \"black\")\n",
    "    \n",
    "    plt.ylabel('True label')\n",
    "    plt.xlabel('Predicted label')\n",
    "    plt.tight_layout()\n",
    "    plt.show()\n"
   ]
  },
  {
   "cell_type": "markdown",
   "metadata": {},
   "source": [
    "evaltuation of model on metrics"
   ]
  },
  {
   "cell_type": "code",
   "execution_count": 15,
   "metadata": {},
   "outputs": [
    {
     "name": "stderr",
     "output_type": "stream",
     "text": [
      "C:\\Users\\aarus\\AppData\\Local\\Temp\\ipykernel_16024\\3196251242.py:2: RuntimeWarning: overflow encountered in exp\n",
      "  return 1 / (1 + np.exp(-z))\n"
     ]
    },
    {
     "data": {
      "image/png": "[encoded data removed]",
      "text/plain": [
       "<Figure size 640x480 with 2 Axes>"
      ]
     },
     "metadata": {},
     "output_type": "display_data"
    }
   ],
   "source": [
    "def evaluate_model(X_test, y_test, weights):\n",
    "    y_pred = [predict(x, weights) for x in X_test.to_numpy()]\n",
    "    tp, fp, tn, fn = compute_confusion_matrix(y_test, y_pred)\n",
    "    plot_confusion_matrix(tp, fp, tn, fn)\n",
    "evaluate_model(X_scaled, y, w)"
   ]
  },
  {
   "cell_type": "markdown",
   "metadata": {},
   "source": [
    "reading and standardising target dataset"
   ]
  },
  {
   "cell_type": "code",
   "execution_count": 16,
   "metadata": {},
   "outputs": [],
   "source": [
    "ndf = pd.read_csv('C:/Users/aarus/Downloads/Freyja_Pumpkins.csv')\n",
    "X_new = ndf[feature_columns]\n",
    "X_new = standardize(X_new)"
   ]
  },
  {
   "cell_type": "markdown",
   "metadata": {},
   "source": [
    "predicting required values"
   ]
  },
  {
   "cell_type": "code",
   "execution_count": 23,
   "metadata": {},
   "outputs": [],
   "source": [
    "label=df['Class'].unique()\n",
    "def predy(X_test, weights):\n",
    "    predictions = []\n",
    "    for i in range(len(X_test)):\n",
    "        x = X_test.iloc[i].to_numpy()\n",
    "        prediction = predict(x, weights)\n",
    "        # Convert binary prediction to class names\n",
    "        if prediction == 0:\n",
    "            predictions.append(label[1])\n",
    "        else:\n",
    "            predictions.append(label[0])\n",
    "    return predictions"
   ]
  },
  {
   "cell_type": "markdown",
   "metadata": {},
   "source": [
    "output into new csv file "
   ]
  },
  {
   "cell_type": "code",
   "execution_count": 24,
   "metadata": {},
   "outputs": [
    {
     "name": "stderr",
     "output_type": "stream",
     "text": [
      "C:\\Users\\aarus\\AppData\\Local\\Temp\\ipykernel_16024\\3196251242.py:2: RuntimeWarning: overflow encountered in exp\n",
      "  return 1 / (1 + np.exp(-z))\n"
     ]
    }
   ],
   "source": [
    "predictions = predy(X_new, w)\n",
    "ndf['Prediction'] = predictions\n",
    "ndf.to_csv('C:/Users/aarus/Downloads/pumpkins.csv', index=False)"
   ]
  }
 ],
 "metadata": {
  "kernelspec": {
   "display_name": "Python 3",
   "language": "python",
   "name": "python3"
  },
  "language_info": {
   "codemirror_mode": {
    "name": "ipython",
    "version": 3
   },
   "file_extension": ".py",
   "mimetype": "text/x-python",
   "name": "python",
   "nbconvert_exporter": "python",
   "pygments_lexer": "ipython3",
   "version": "3.12.6"
  }
 },
 "nbformat": 4,
 "nbformat_minor": 2
}
